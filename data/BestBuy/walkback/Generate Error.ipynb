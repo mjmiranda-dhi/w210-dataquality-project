{
 "cells": [
  {
   "cell_type": "code",
   "execution_count": 2,
   "metadata": {
    "collapsed": true
   },
   "outputs": [],
   "source": [
    "import pandas as pd\n",
    "import random"
   ]
  },
  {
   "cell_type": "code",
   "execution_count": null,
   "metadata": {
    "collapsed": false
   },
   "outputs": [],
   "source": [
    "prod_df = pd.read_csv('products_reduced_full_walkback_reverse.csv')\n",
    "print(prod_df.shape)\n",
    "print(prod_df.columns)"
   ]
  },
  {
   "cell_type": "code",
   "execution_count": null,
   "metadata": {
    "collapsed": false
   },
   "outputs": [],
   "source": [
    "filter_df = prod_df[prod_df.CategoryLevel3Name.notnull()].copy(deep=True)\n",
    "\n",
    "id_cols = [col for col in filter_df.columns if 'Id' in col]\n",
    "drop_cols = id_cols + ['CategoryLevel4Name','CategoryLevel5Name','CategoryLevel6Name','CategoryLevel7Name']\n",
    "filter_df.drop(drop_cols, axis=1, inplace=True)\n",
    "print(drop_cols)\n",
    "print(filter_df.shape)"
   ]
  },
  {
   "cell_type": "code",
   "execution_count": null,
   "metadata": {
    "collapsed": true
   },
   "outputs": [],
   "source": [
    "filter_df.to_csv('products_filtered.csv', encoding='utf-8')"
   ]
  },
  {
   "cell_type": "code",
   "execution_count": null,
   "metadata": {
    "collapsed": true
   },
   "outputs": [],
   "source": [
    "del prod_df"
   ]
  },
  {
   "cell_type": "code",
   "execution_count": 8,
   "metadata": {
    "collapsed": false
   },
   "outputs": [
    {
     "name": "stdout",
     "output_type": "stream",
     "text": [
      "['CategoryLevel0Name', 'CategoryLevel1Name', 'CategoryLevel2Name', 'CategoryLevel3Name']\n"
     ]
    }
   ],
   "source": [
    "filter_df = pd.read_csv('products_filtered.csv', index_col=0)\n",
    "random.seed(a=210)\n",
    "\n",
    "hier_cols = [col for col in filter_df.columns if 'CategoryLevel' in col]\n",
    "train_cols = ['train_' + col for col in hier_cols]\n",
    "print(hier_cols)"
   ]
  },
  {
   "cell_type": "code",
   "execution_count": 9,
   "metadata": {
    "collapsed": false
   },
   "outputs": [
    {
     "name": "stdout",
     "output_type": "stream",
     "text": [
      "Errors per Column: 12291 rows\n"
     ]
    },
    {
     "name": "stderr",
     "output_type": "stream",
     "text": [
      "C:\\Users\\timothy.weeks\\AppData\\Local\\Continuum\\Anaconda3\\lib\\site-packages\\pandas\\core\\indexing.py:141: SettingWithCopyWarning: \n",
      "A value is trying to be set on a copy of a slice from a DataFrame\n",
      "\n",
      "See the caveats in the documentation: http://pandas.pydata.org/pandas-docs/stable/indexing.html#indexing-view-versus-copy\n",
      "  self._setitem_with_indexer(indexer, value)\n"
     ]
    }
   ],
   "source": [
    "filter_df[train_cols] = filter_df[hier_cols].copy(deep=True)\n",
    "filter_df.reset_index(inplace=True)\n",
    "filter_df['train_status'] = 'Correct Record'\n",
    "\n",
    "error_rate = .05\n",
    "errors_per_col = round((error_rate / len(train_cols)) * filter_df.shape[0])\n",
    "print('Errors per Column: {0} rows'.format(errors_per_col))\n",
    "\n",
    "def pick_error(cur_val, all_values):\n",
    "    sub_set = all_values.copy()\n",
    "#     print(cur_val)\n",
    "    sub_set.remove(cur_val)\n",
    "#     print(sub_set)\n",
    "    return(sub_set[random.randint(0, len(sub_set) - 1)])\n",
    "\n",
    "def update_status(status, col):\n",
    "    append_status = 'error: {0} |'.format(col)\n",
    "    if status == 'Correct Record':\n",
    "        return append_status\n",
    "    else:\n",
    "        return status + append_status\n",
    "\n",
    "for i, col in enumerate(train_cols):\n",
    "    error_rows = random.sample(range(filter_df.shape[0]), errors_per_col)\n",
    "    all_values = filter_df[col].unique().tolist()\n",
    "    filter_df[col].ix[error_rows] = filter_df[hier_cols[i]].ix[error_rows].apply(lambda x: pick_error(x, all_values))\n",
    "    filter_df.train_status.ix[error_rows] = filter_df.train_status.ix[error_rows].apply(lambda x: update_status(x, col))\n",
    "\n",
    "print(filter_df.train_status.value_counts())"
   ]
  },
  {
   "cell_type": "code",
   "execution_count": 13,
   "metadata": {
    "collapsed": true
   },
   "outputs": [],
   "source": [
    "filter_df.to_csv('master_products_5per_error.csv', encoding='utf-8')"
   ]
  }
 ],
 "metadata": {
  "kernelspec": {
   "display_name": "Python [conda root]",
   "language": "python",
   "name": "conda-root-py"
  },
  "language_info": {
   "codemirror_mode": {
    "name": "ipython",
    "version": 3
   },
   "file_extension": ".py",
   "mimetype": "text/x-python",
   "name": "python",
   "nbconvert_exporter": "python",
   "pygments_lexer": "ipython3",
   "version": "3.4.5"
  }
 },
 "nbformat": 4,
 "nbformat_minor": 2
}
