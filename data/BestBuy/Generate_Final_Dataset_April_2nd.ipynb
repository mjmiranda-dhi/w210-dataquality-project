{
 "cells": [
  {
   "cell_type": "markdown",
   "metadata": {},
   "source": [
    "## Graph Tree Structure\n",
    "#### Setting up necessary libraries"
   ]
  },
  {
   "cell_type": "code",
   "execution_count": 1,
   "metadata": {
    "collapsed": false
   },
   "outputs": [],
   "source": [
    "#Import ploty\n",
    "import plotly \n",
    "import pandas as pd\n",
    "import numpy as np\n",
    "import re"
   ]
  },
  {
   "cell_type": "markdown",
   "metadata": {},
   "source": [
    "### Input best_buy data\n",
    "#### Put products_reduced_full_walkback.csv in your directory for input"
   ]
  },
  {
   "cell_type": "code",
   "execution_count": 2,
   "metadata": {
    "collapsed": false
   },
   "outputs": [
    {
     "name": "stderr",
     "output_type": "stream",
     "text": [
      "/Users/Maximus/anaconda/lib/python2.7/site-packages/IPython/core/interactiveshell.py:2902: DtypeWarning:\n",
      "\n",
      "Columns (24) have mixed types. Specify dtype option on import or set low_memory=False.\n",
      "\n"
     ]
    },
    {
     "data": {
      "text/html": [
       "<div>\n",
       "<table border=\"1\" class=\"dataframe\">\n",
       "  <thead>\n",
       "    <tr style=\"text-align: right;\">\n",
       "      <th></th>\n",
       "      <th>sku</th>\n",
       "      <th>productId</th>\n",
       "      <th>name</th>\n",
       "      <th>type</th>\n",
       "      <th>regularPrice</th>\n",
       "      <th>class</th>\n",
       "      <th>classId</th>\n",
       "      <th>subclass</th>\n",
       "      <th>subclassId</th>\n",
       "      <th>department</th>\n",
       "      <th>...</th>\n",
       "      <th>categoryParentLevel3Name</th>\n",
       "      <th>categoryParentLevel4Id</th>\n",
       "      <th>categoryParentLevel4Name</th>\n",
       "      <th>categoryParentLevel5Id</th>\n",
       "      <th>categoryParentLevel5Name</th>\n",
       "      <th>categoryParentLevel6Id</th>\n",
       "      <th>categoryParentLevel6Name</th>\n",
       "      <th>categoryParentLevel7Id</th>\n",
       "      <th>categoryParentLevel7Name</th>\n",
       "      <th>randId</th>\n",
       "    </tr>\n",
       "  </thead>\n",
       "  <tbody>\n",
       "    <tr>\n",
       "      <th>0</th>\n",
       "      <td>3147106</td>\n",
       "      <td>139091</td>\n",
       "      <td>Wild as Springtime - CD</td>\n",
       "      <td>Music</td>\n",
       "      <td>14.99</td>\n",
       "      <td>COMPACT DISC</td>\n",
       "      <td>77</td>\n",
       "      <td>JAZZ-CONTEMPORARY</td>\n",
       "      <td>1002</td>\n",
       "      <td>VIDEO/COMPACT DISC</td>\n",
       "      <td>...</td>\n",
       "      <td>Best Buy</td>\n",
       "      <td>NaN</td>\n",
       "      <td>NaN</td>\n",
       "      <td>NaN</td>\n",
       "      <td>NaN</td>\n",
       "      <td>NaN</td>\n",
       "      <td>NaN</td>\n",
       "      <td>NaN</td>\n",
       "      <td>NaN</td>\n",
       "      <td>{54EB0588-A309-4FC9-80C8-00000758ED9F}</td>\n",
       "    </tr>\n",
       "    <tr>\n",
       "      <th>1</th>\n",
       "      <td>11157847</td>\n",
       "      <td>60139</td>\n",
       "      <td>Whity - Widescreen Subtitle - DVD</td>\n",
       "      <td>Movie</td>\n",
       "      <td>24.99</td>\n",
       "      <td>DVD SOFTWARE</td>\n",
       "      <td>126</td>\n",
       "      <td>DOCUMENTARIES</td>\n",
       "      <td>1029</td>\n",
       "      <td>VIDEO/COMPACT DISC</td>\n",
       "      <td>...</td>\n",
       "      <td>NaN</td>\n",
       "      <td>NaN</td>\n",
       "      <td>NaN</td>\n",
       "      <td>NaN</td>\n",
       "      <td>NaN</td>\n",
       "      <td>NaN</td>\n",
       "      <td>NaN</td>\n",
       "      <td>NaN</td>\n",
       "      <td>NaN</td>\n",
       "      <td>{E12DF265-D0EB-44D8-A7BE-00000879F0D6}</td>\n",
       "    </tr>\n",
       "    <tr>\n",
       "      <th>2</th>\n",
       "      <td>2619848</td>\n",
       "      <td>301613</td>\n",
       "      <td>Alone In His Presence - CASSETTE</td>\n",
       "      <td>Music</td>\n",
       "      <td>9.99</td>\n",
       "      <td>PRE-RECORDED CASS</td>\n",
       "      <td>80</td>\n",
       "      <td>GOSPEL</td>\n",
       "      <td>1055</td>\n",
       "      <td>VIDEO/COMPACT DISC</td>\n",
       "      <td>...</td>\n",
       "      <td>Best Buy</td>\n",
       "      <td>NaN</td>\n",
       "      <td>NaN</td>\n",
       "      <td>NaN</td>\n",
       "      <td>NaN</td>\n",
       "      <td>NaN</td>\n",
       "      <td>NaN</td>\n",
       "      <td>NaN</td>\n",
       "      <td>NaN</td>\n",
       "      <td>{B2C07C4E-1DA2-4973-BB9E-00000BF18EF0}</td>\n",
       "    </tr>\n",
       "  </tbody>\n",
       "</table>\n",
       "<p>3 rows × 27 columns</p>\n",
       "</div>"
      ],
      "text/plain": [
       "        sku  productId                               name   type  \\\n",
       "0   3147106     139091            Wild as Springtime - CD  Music   \n",
       "1  11157847      60139  Whity - Widescreen Subtitle - DVD  Movie   \n",
       "2   2619848     301613   Alone In His Presence - CASSETTE  Music   \n",
       "\n",
       "   regularPrice              class classId           subclass subclassId  \\\n",
       "0         14.99       COMPACT DISC      77  JAZZ-CONTEMPORARY       1002   \n",
       "1         24.99       DVD SOFTWARE     126      DOCUMENTARIES       1029   \n",
       "2          9.99  PRE-RECORDED CASS      80             GOSPEL       1055   \n",
       "\n",
       "           department                   ...                    \\\n",
       "0  VIDEO/COMPACT DISC                   ...                     \n",
       "1  VIDEO/COMPACT DISC                   ...                     \n",
       "2  VIDEO/COMPACT DISC                   ...                     \n",
       "\n",
       "  categoryParentLevel3Name categoryParentLevel4Id categoryParentLevel4Name  \\\n",
       "0                 Best Buy                    NaN                      NaN   \n",
       "1                      NaN                    NaN                      NaN   \n",
       "2                 Best Buy                    NaN                      NaN   \n",
       "\n",
       "  categoryParentLevel5Id categoryParentLevel5Name categoryParentLevel6Id  \\\n",
       "0                    NaN                      NaN                    NaN   \n",
       "1                    NaN                      NaN                    NaN   \n",
       "2                    NaN                      NaN                    NaN   \n",
       "\n",
       "  categoryParentLevel6Name categoryParentLevel7Id categoryParentLevel7Name  \\\n",
       "0                      NaN                    NaN                      NaN   \n",
       "1                      NaN                    NaN                      NaN   \n",
       "2                      NaN                    NaN                      NaN   \n",
       "\n",
       "                                   randId  \n",
       "0  {54EB0588-A309-4FC9-80C8-00000758ED9F}  \n",
       "1  {E12DF265-D0EB-44D8-A7BE-00000879F0D6}  \n",
       "2  {B2C07C4E-1DA2-4973-BB9E-00000BF18EF0}  \n",
       "\n",
       "[3 rows x 27 columns]"
      ]
     },
     "execution_count": 2,
     "metadata": {},
     "output_type": "execute_result"
    }
   ],
   "source": [
    "bestbuy_pd = pd.read_csv(\"/Users/Maximus/Downloads/products_reduced_full_walkback.csv\", delimiter = \",\")\n",
    "bestbuy_pd.head(3)"
   ]
  },
  {
   "cell_type": "code",
   "execution_count": 3,
   "metadata": {
    "collapsed": false
   },
   "outputs": [
    {
     "data": {
      "text/plain": [
       "Index([u'sku', u'productId', u'name', u'type', u'regularPrice', u'class',\n",
       "       u'classId', u'subclass', u'subclassId', u'department',\n",
       "       u'categoryPathId', u'categoryPathName', u'categoryParentLevel1Id',\n",
       "       u'categoryParentLevel1Name', u'categoryParentLevel2Id',\n",
       "       u'categoryParentLevel2Name', u'categoryParentLevel3Id',\n",
       "       u'categoryParentLevel3Name', u'categoryParentLevel4Id',\n",
       "       u'categoryParentLevel4Name', u'categoryParentLevel5Id',\n",
       "       u'categoryParentLevel5Name', u'categoryParentLevel6Id',\n",
       "       u'categoryParentLevel6Name', u'categoryParentLevel7Id',\n",
       "       u'categoryParentLevel7Name', u'randId'],\n",
       "      dtype='object')"
      ]
     },
     "execution_count": 3,
     "metadata": {},
     "output_type": "execute_result"
    }
   ],
   "source": [
    "bestbuy_pd = bestbuy_pd.replace(np.nan,' ', regex=True)\n",
    "bestbuy_pd.columns"
   ]
  },
  {
   "cell_type": "markdown",
   "metadata": {},
   "source": [
    "## Interactive Dial button for user. (to be complete/design).\n",
    "### This part fo the code is reserved for an interactive interface for users to input which columns are part of the data structure and needs to be udpated."
   ]
  },
  {
   "cell_type": "code",
   "execution_count": null,
   "metadata": {
    "collapsed": true
   },
   "outputs": [],
   "source": [
    "### User informs: root node, columns names to use for \n",
    "##hireachical structure, and columns names use for feature engineering."
   ]
  },
  {
   "cell_type": "code",
   "execution_count": 4,
   "metadata": {
    "collapsed": true
   },
   "outputs": [],
   "source": [
    "#In a fully set up site, this information will be obtained through user input.\n",
    "#In order to make the process work, manually make the update for now.\n",
    "\n",
    "hierarchy_col = ['categoryParentLevel7Name', 'categoryParentLevel6Name','categoryParentLevel5Name',\n",
    "                 'categoryParentLevel4Name','categoryParentLevel3Name','categoryParentLevel2Name',\n",
    "                 'categoryParentLevel1Name']\n",
    "n_levels = len(hierarchy_col)\n",
    "#root_node = ['categoryParentLevel7Name']"
   ]
  },
  {
   "cell_type": "markdown",
   "metadata": {},
   "source": [
    "### The BestBuy dataset is not perfectly alinged column-wise so this type is a manual type to understand the structure of our data.  This part shouldn't neccessary for our product code when we assume users will update properly formatted data."
   ]
  },
  {
   "cell_type": "code",
   "execution_count": 5,
   "metadata": {
    "collapsed": false
   },
   "outputs": [
    {
     "data": {
      "text/plain": [
       "0          Best Buy**Movies & Music**Music\n",
       "1                 Best Buy**Movies & Music\n",
       "2          Best Buy**Movies & Music**Music\n",
       "3          Best Buy**Movies & Music**Music\n",
       "4    Best Buy**Movies & Music**Music**Rock\n",
       "Name: combined, dtype: object"
      ]
     },
     "execution_count": 5,
     "metadata": {},
     "output_type": "execute_result"
    }
   ],
   "source": [
    "bestbuy_pd['combined'] = ''\n",
    "\n",
    "for i in hierarchy_col:\n",
    "  bestbuy_pd['combined'] = bestbuy_pd['combined'].astype(str) +'**'+ bestbuy_pd[i].astype(str)\n",
    "\n",
    "bestbuy_pd['combined'] = bestbuy_pd['combined'].apply(lambda x: re.sub(r'.*Best Buy', 'Best Buy', x))\n",
    "bestbuy_pd['combined'].head()"
   ]
  },
  {
   "cell_type": "markdown",
   "metadata": {},
   "source": [
    "### Creating final dataset"
   ]
  },
  {
   "cell_type": "code",
   "execution_count": 80,
   "metadata": {
    "collapsed": false
   },
   "outputs": [],
   "source": [
    "New_Col = ['name', 'type', 'regularPrice', 'class', 'subclass', 'department']\n",
    "new_data = pd.DataFrame(columns=New_Col)\n",
    "new_data['name'] = bestbuy_pd['name']\n",
    "new_data['type'] = bestbuy_pd['type']\n",
    "new_data['regularPrice'] = bestbuy_pd['regularPrice']\n",
    "new_data['class'] = bestbuy_pd['class']\n",
    "new_data['subclass'] = bestbuy_pd['subclass']\n",
    "new_data['department'] = bestbuy_pd['department']"
   ]
  },
  {
   "cell_type": "code",
   "execution_count": 29,
   "metadata": {
    "collapsed": false
   },
   "outputs": [],
   "source": [
    "foo = lambda x: pd.Series([i for i in x.split('**')])\n",
    "levels = bestbuy_pd['combined'].apply(foo)"
   ]
  },
  {
   "cell_type": "code",
   "execution_count": 42,
   "metadata": {
    "collapsed": false
   },
   "outputs": [],
   "source": [
    "error_check = lambda x: pd.Series(len(x.split('-')))\n",
    "test = bestbuy_pd['combined'].apply(error_check)"
   ]
  },
  {
   "cell_type": "code",
   "execution_count": 81,
   "metadata": {
    "collapsed": false
   },
   "outputs": [],
   "source": [
    "new_data = new_data.merge(levels, left_index=True, right_index = True)\n",
    "new_data = new_data.merge(test, left_index=True, right_index = True)\n",
    "#new_data.fillna(0, inplace = True)\n",
    "new_data.columns = ['name', 'type', 'regularPrice', 'class', 'subclass', 'department', \\\n",
    "                    'level_1', 'level_2', 'level_3', 'level_4', 'level_5', 'level_6', 'level_7',\\\n",
    "                    'level_8', 'error_check']"
   ]
  },
  {
   "cell_type": "code",
   "execution_count": 82,
   "metadata": {
    "collapsed": false
   },
   "outputs": [],
   "source": [
    "new_data.loc[new_data['error_check']<2,\\\n",
    "['name', 'type', 'regularPrice', 'class', 'subclass', 'department', \\\n",
    "'level_1', 'level_2', 'level_3', 'level_4', 'level_5', 'level_6', 'level_7']].to_pickle('New_BestBuy_Data0402.p')"
   ]
  },
  {
   "cell_type": "code",
   "execution_count": 87,
   "metadata": {
    "collapsed": false
   },
   "outputs": [
    {
     "data": {
      "text/html": [
       "<div>\n",
       "<table border=\"1\" class=\"dataframe\">\n",
       "  <thead>\n",
       "    <tr style=\"text-align: right;\">\n",
       "      <th></th>\n",
       "      <th>name</th>\n",
       "      <th>type</th>\n",
       "      <th>regularPrice</th>\n",
       "      <th>class</th>\n",
       "      <th>subclass</th>\n",
       "      <th>department</th>\n",
       "      <th>level_1</th>\n",
       "      <th>level_2</th>\n",
       "      <th>level_3</th>\n",
       "      <th>level_4</th>\n",
       "      <th>level_5</th>\n",
       "      <th>level_6</th>\n",
       "      <th>level_7</th>\n",
       "      <th>level_8</th>\n",
       "      <th>error_check</th>\n",
       "    </tr>\n",
       "  </thead>\n",
       "  <tbody>\n",
       "    <tr>\n",
       "      <th>0</th>\n",
       "      <td>Wild as Springtime - CD</td>\n",
       "      <td>Music</td>\n",
       "      <td>14.99</td>\n",
       "      <td>COMPACT DISC</td>\n",
       "      <td>JAZZ-CONTEMPORARY</td>\n",
       "      <td>VIDEO/COMPACT DISC</td>\n",
       "      <td>Best Buy</td>\n",
       "      <td>Movies &amp; Music</td>\n",
       "      <td>Music</td>\n",
       "      <td>NaN</td>\n",
       "      <td>NaN</td>\n",
       "      <td>NaN</td>\n",
       "      <td>NaN</td>\n",
       "      <td>NaN</td>\n",
       "      <td>1</td>\n",
       "    </tr>\n",
       "    <tr>\n",
       "      <th>1</th>\n",
       "      <td>Whity - Widescreen Subtitle - DVD</td>\n",
       "      <td>Movie</td>\n",
       "      <td>24.99</td>\n",
       "      <td>DVD SOFTWARE</td>\n",
       "      <td>DOCUMENTARIES</td>\n",
       "      <td>VIDEO/COMPACT DISC</td>\n",
       "      <td>Best Buy</td>\n",
       "      <td>Movies &amp; Music</td>\n",
       "      <td>NaN</td>\n",
       "      <td>NaN</td>\n",
       "      <td>NaN</td>\n",
       "      <td>NaN</td>\n",
       "      <td>NaN</td>\n",
       "      <td>NaN</td>\n",
       "      <td>1</td>\n",
       "    </tr>\n",
       "    <tr>\n",
       "      <th>2</th>\n",
       "      <td>Alone In His Presence - CASSETTE</td>\n",
       "      <td>Music</td>\n",
       "      <td>9.99</td>\n",
       "      <td>PRE-RECORDED CASS</td>\n",
       "      <td>GOSPEL</td>\n",
       "      <td>VIDEO/COMPACT DISC</td>\n",
       "      <td>Best Buy</td>\n",
       "      <td>Movies &amp; Music</td>\n",
       "      <td>Music</td>\n",
       "      <td>NaN</td>\n",
       "      <td>NaN</td>\n",
       "      <td>NaN</td>\n",
       "      <td>NaN</td>\n",
       "      <td>NaN</td>\n",
       "      <td>1</td>\n",
       "    </tr>\n",
       "    <tr>\n",
       "      <th>3</th>\n",
       "      <td>Meal Ticket - CD</td>\n",
       "      <td>Music</td>\n",
       "      <td>12.99</td>\n",
       "      <td>COMPACT DISC</td>\n",
       "      <td>R&amp;B</td>\n",
       "      <td>VIDEO/COMPACT DISC</td>\n",
       "      <td>Best Buy</td>\n",
       "      <td>Movies &amp; Music</td>\n",
       "      <td>Music</td>\n",
       "      <td>NaN</td>\n",
       "      <td>NaN</td>\n",
       "      <td>NaN</td>\n",
       "      <td>NaN</td>\n",
       "      <td>NaN</td>\n",
       "      <td>1</td>\n",
       "    </tr>\n",
       "    <tr>\n",
       "      <th>4</th>\n",
       "      <td>Of the Son and the Father - CD</td>\n",
       "      <td>Music</td>\n",
       "      <td>13.99</td>\n",
       "      <td>COMPACT DISC</td>\n",
       "      <td>ROCK</td>\n",
       "      <td>VIDEO/COMPACT DISC</td>\n",
       "      <td>Best Buy</td>\n",
       "      <td>Movies &amp; Music</td>\n",
       "      <td>Music</td>\n",
       "      <td>Rock</td>\n",
       "      <td>NaN</td>\n",
       "      <td>NaN</td>\n",
       "      <td>NaN</td>\n",
       "      <td>NaN</td>\n",
       "      <td>1</td>\n",
       "    </tr>\n",
       "  </tbody>\n",
       "</table>\n",
       "</div>"
      ],
      "text/plain": [
       "                                name   type  regularPrice              class  \\\n",
       "0            Wild as Springtime - CD  Music         14.99       COMPACT DISC   \n",
       "1  Whity - Widescreen Subtitle - DVD  Movie         24.99       DVD SOFTWARE   \n",
       "2   Alone In His Presence - CASSETTE  Music          9.99  PRE-RECORDED CASS   \n",
       "3                   Meal Ticket - CD  Music         12.99       COMPACT DISC   \n",
       "4     Of the Son and the Father - CD  Music         13.99       COMPACT DISC   \n",
       "\n",
       "            subclass          department   level_1         level_2 level_3  \\\n",
       "0  JAZZ-CONTEMPORARY  VIDEO/COMPACT DISC  Best Buy  Movies & Music   Music   \n",
       "1      DOCUMENTARIES  VIDEO/COMPACT DISC  Best Buy  Movies & Music     NaN   \n",
       "2             GOSPEL  VIDEO/COMPACT DISC  Best Buy  Movies & Music   Music   \n",
       "3                R&B  VIDEO/COMPACT DISC  Best Buy  Movies & Music   Music   \n",
       "4               ROCK  VIDEO/COMPACT DISC  Best Buy  Movies & Music   Music   \n",
       "\n",
       "  level_4 level_5 level_6 level_7 level_8  error_check  \n",
       "0     NaN     NaN     NaN     NaN     NaN            1  \n",
       "1     NaN     NaN     NaN     NaN     NaN            1  \n",
       "2     NaN     NaN     NaN     NaN     NaN            1  \n",
       "3     NaN     NaN     NaN     NaN     NaN            1  \n",
       "4    Rock     NaN     NaN     NaN     NaN            1  "
      ]
     },
     "execution_count": 87,
     "metadata": {},
     "output_type": "execute_result"
    }
   ],
   "source": [
    "new_data.head()"
   ]
  },
  {
   "cell_type": "code",
   "execution_count": 77,
   "metadata": {
    "collapsed": false
   },
   "outputs": [
    {
     "data": {
      "text/plain": [
       "0          Best Buy**Movies & Music**Music\n",
       "1                 Best Buy**Movies & Music\n",
       "2          Best Buy**Movies & Music**Music\n",
       "3          Best Buy**Movies & Music**Music\n",
       "4    Best Buy**Movies & Music**Music**Rock\n",
       "5          Best Buy**Movies & Music**Music\n",
       "6          Best Buy**Movies & Music**Music\n",
       "7          Best Buy**Movies & Music**Music\n",
       "8    Best Buy**Movies & Music**Music**Rock\n",
       "9                 Best Buy**Movies & Music\n",
       "Name: combined, dtype: object"
      ]
     },
     "execution_count": 77,
     "metadata": {},
     "output_type": "execute_result"
    }
   ],
   "source": [
    "bestbuy_pd['combined'].head(10)"
   ]
  },
  {
   "cell_type": "code",
   "execution_count": 20,
   "metadata": {
    "collapsed": false
   },
   "outputs": [
    {
     "data": {
      "text/plain": [
       "['Best Buy', 'Movies & Music', 'Music']"
      ]
     },
     "execution_count": 20,
     "metadata": {},
     "output_type": "execute_result"
    }
   ],
   "source": [
    "#Trying out Panda command\n",
    "a = bestbuy_pd['combined'][0].split(\"**\")\n",
    "a= a + ['']*0\n",
    "a\n",
    "list(bestbuy_pd.loc[0, ['combined', 'sku']])"
   ]
  },
  {
   "cell_type": "code",
   "execution_count": null,
   "metadata": {
    "collapsed": true
   },
   "outputs": [],
   "source": []
  }
 ],
 "metadata": {
  "kernelspec": {
   "display_name": "Python 2",
   "language": "python",
   "name": "python2"
  },
  "language_info": {
   "codemirror_mode": {
    "name": "ipython",
    "version": 2
   },
   "file_extension": ".py",
   "mimetype": "text/x-python",
   "name": "python",
   "nbconvert_exporter": "python",
   "pygments_lexer": "ipython2",
   "version": "2.7.12"
  }
 },
 "nbformat": 4,
 "nbformat_minor": 0
}
